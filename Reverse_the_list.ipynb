{
  "nbformat": 4,
  "nbformat_minor": 0,
  "metadata": {
    "colab": {
      "name": "Reverse the list.ipynb",
      "provenance": []
    },
    "kernelspec": {
      "name": "python3",
      "display_name": "Python 3"
    },
    "language_info": {
      "name": "python"
    }
  },
  "cells": [
    {
      "cell_type": "code",
      "metadata": {
        "id": "MhcpjFl27AGv",
        "colab": {
          "base_uri": "https://localhost:8080/"
        },
        "outputId": "c71fe804-a5bb-456d-c99e-f4d158e83e56"
      },
      "source": [
        "l=[]\n",
        "n=int(input())\n",
        "print(\"Enter no : \")\n",
        "for i in range(n):\n",
        "    data=int(input(\"Data : \"))\n",
        "    l.append(data)\n",
        "print(l)\n",
        "l.reverse()\n",
        "print(l)"
      ],
      "execution_count": 1,
      "outputs": [
        {
          "output_type": "stream",
          "text": [
            "4\n",
            "Enter no : \n",
            "Data : 1\n",
            "Data : 2\n",
            "Data : 3\n",
            "Data : 4\n",
            "[1, 2, 3, 4]\n",
            "[4, 3, 2, 1]\n"
          ],
          "name": "stdout"
        }
      ]
    },
    {
      "cell_type": "code",
      "metadata": {
        "colab": {
          "base_uri": "https://localhost:8080/"
        },
        "id": "tHauCWHxfu4g",
        "outputId": "cb0b3e27-d234-44d6-83c7-4665221f7121"
      },
      "source": [
        "l=[]\n",
        "\n",
        "while True:\n",
        "    element=int(input(\"Enter the list element : \"))\n",
        "    l.append(element)\n",
        "    choice=input(\"If you want to stop press s else print any key\")\n",
        "    if choice=='s':\n",
        "        break\n",
        "print(l)\n",
        "l.reverse()\n",
        "print(l)"
      ],
      "execution_count": 2,
      "outputs": [
        {
          "output_type": "stream",
          "text": [
            "Enter the list element : 1\n",
            "If you want to stop press s else print any keym\n",
            "Enter the list element : 2\n",
            "If you want to stop press s else print any keyn\n",
            "Enter the list element : 3\n",
            "If you want to stop press s else print any keyl\n",
            "Enter the list element : 4\n",
            "If you want to stop press s else print any keys\n",
            "[1, 2, 3, 4]\n",
            "[4, 3, 2, 1]\n"
          ],
          "name": "stdout"
        }
      ]
    }
  ]
}