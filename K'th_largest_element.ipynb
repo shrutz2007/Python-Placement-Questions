{
  "nbformat": 4,
  "nbformat_minor": 0,
  "metadata": {
    "colab": {
      "name": "K'th largest element.ipynb",
      "provenance": []
    },
    "kernelspec": {
      "name": "python3",
      "display_name": "Python 3"
    },
    "language_info": {
      "name": "python"
    }
  },
  "cells": [
    {
      "cell_type": "code",
      "metadata": {
        "colab": {
          "base_uri": "https://localhost:8080/"
        },
        "id": "K3AA-2Q6aAIy",
        "outputId": "579443b7-584c-4435-c928-be417cd97ff1"
      },
      "source": [
        "''' Python3 code for k largest elements in an array'''\n",
        "\n",
        "def kLargest(arr, k):\n",
        "\t# Sort the given array arr in reverse\n",
        "\t# order.\n",
        "\tarr.sort(reverse = True)\n",
        "\t# Print the first kth largest elements\n",
        "\tfor i in range(k):\n",
        "\t\tprint (arr[i], end =\" \")\n",
        "\n",
        "# Driver program\n",
        "arr = list(map(int,input().split( )))  \n",
        "k = int(input())\n",
        "kLargest(arr, k)\n",
        "\n"
      ],
      "execution_count": 3,
      "outputs": [
        {
          "output_type": "stream",
          "text": [
            "5 48 32 1 6 90\n",
            "3\n",
            "90 48 32 "
          ],
          "name": "stdout"
        }
      ]
    }
  ]
}