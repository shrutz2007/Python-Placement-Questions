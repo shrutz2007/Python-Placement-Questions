{
  "nbformat": 4,
  "nbformat_minor": 0,
  "metadata": {
    "colab": {
      "name": "Permutation of string.ipynb",
      "provenance": []
    },
    "kernelspec": {
      "name": "python3",
      "display_name": "Python 3"
    },
    "language_info": {
      "name": "python"
    }
  },
  "cells": [
    {
      "cell_type": "code",
      "metadata": {
        "id": "MhcpjFl27AGv",
        "colab": {
          "base_uri": "https://localhost:8080/"
        },
        "outputId": "9878d5b5-6fc1-4819-cfc4-7c43dec195a7"
      },
      "source": [
        "from itertools import permutations\n",
        "n=int(input())\n",
        "for i in range(n):\n",
        "    s=(input())\n",
        "    print([''.join(p) for p in permutations(s)])\n"
      ],
      "execution_count": 5,
      "outputs": [
        {
          "output_type": "stream",
          "text": [
            "2\n",
            "abc\n",
            "['abc', 'acb', 'bac', 'bca', 'cab', 'cba']\n",
            "123\n",
            "['123', '132', '213', '231', '312', '321']\n"
          ],
          "name": "stdout"
        }
      ]
    }
  ]
}