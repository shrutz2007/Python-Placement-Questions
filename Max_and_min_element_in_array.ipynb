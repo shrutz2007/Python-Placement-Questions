{
  "nbformat": 4,
  "nbformat_minor": 0,
  "metadata": {
    "colab": {
      "name": "Max and min element in array.ipynb",
      "provenance": []
    },
    "kernelspec": {
      "name": "python3",
      "display_name": "Python 3"
    },
    "language_info": {
      "name": "python"
    }
  },
  "cells": [
    {
      "cell_type": "code",
      "metadata": {
        "colab": {
          "base_uri": "https://localhost:8080/"
        },
        "id": "D7GNkdngoe8W",
        "outputId": "81daa8ea-9116-4af2-e662-7c03eefd7546"
      },
      "source": [
        "import numpy\n",
        "# creating a numpy array of integers\n",
        "\n",
        "arr = [int(i) for i in input().split()]\n",
        " \n",
        "# finding the maximum and \n",
        "# minimum element in the array\n",
        "max_element = numpy.max(arr)\n",
        "min_element = numpy.min(arr)\n",
        "  \n",
        "# printing the result\n",
        "print('maximum element in the array is: ', \n",
        "      max_element)\n",
        "print('minimum element in the array is: ',\n",
        "      min_element)"
      ],
      "execution_count": 22,
      "outputs": [
        {
          "output_type": "stream",
          "text": [
            "2 6 7 1\n",
            "maximum element in the array is:  7\n",
            "minimum element in the array is:  1\n"
          ],
          "name": "stdout"
        }
      ]
    },
    {
      "cell_type": "code",
      "metadata": {
        "id": "MhcpjFl27AGv",
        "colab": {
          "base_uri": "https://localhost:8080/"
        },
        "outputId": "a98130ad-a4bc-4b26-b16c-78a44183227b"
      },
      "source": [
        "\n",
        "# import numpy library\n",
        "import numpy\n",
        "a=[]\n",
        "n=int(input())\n",
        "# creating a numpy array of integers\n",
        "\n",
        "for j in range(n):\n",
        "  arr = [int(i) for i in input().split()]\n",
        "  a.append(arr)\n",
        "\n",
        "\n",
        "  \n",
        "  \n",
        "# finding the maximum and \n",
        "# minimum element in the array\n",
        "  max_element = numpy.max(arr)\n",
        "  min_element = numpy.min(arr)\n",
        "  \n",
        "# printing the result\n",
        "  print('maximum element in the array is: ', \n",
        "      max_element)\n",
        "  print('minimum element in the array is: ',\n",
        "      min_element)\n"
      ],
      "execution_count": 21,
      "outputs": [
        {
          "output_type": "stream",
          "text": [
            "2\n",
            "1 5 4 9\n",
            "maximum element in the array is:  9\n",
            "minimum element in the array is:  1\n",
            "6 2 4 9\n",
            "maximum element in the array is:  9\n",
            "minimum element in the array is:  2\n"
          ],
          "name": "stdout"
        }
      ]
    }
  ]
}