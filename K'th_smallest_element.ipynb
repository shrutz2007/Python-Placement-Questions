{
  "nbformat": 4,
  "nbformat_minor": 0,
  "metadata": {
    "colab": {
      "name": "K'th smallest element.ipynb",
      "provenance": []
    },
    "kernelspec": {
      "name": "python3",
      "display_name": "Python 3"
    },
    "language_info": {
      "name": "python"
    }
  },
  "cells": [
    {
      "cell_type": "code",
      "metadata": {
        "colab": {
          "base_uri": "https://localhost:8080/"
        },
        "id": "D7GNkdngoe8W",
        "outputId": "005ed333-9700-4efc-e3ed-f70c7cf37f14"
      },
      "source": [
        "def kthsmallest(arr,n,k):\n",
        "  arr.sort()\n",
        "  return arr[k-1]\n",
        "\n",
        "if __name__=='__main__':\n",
        "  arr=list(map(int,input().split( )))\n",
        "  n=len(arr)\n",
        "  k=int(input(\"Enter the smallest element of number : \"))\n",
        "  print(\"Kth smallest element is : \",kthsmallest(arr,n,k))"
      ],
      "execution_count": 1,
      "outputs": [
        {
          "output_type": "stream",
          "text": [
            "5 64 2 98 3\n",
            "Enter the smallest element of number : 2\n",
            "Kth smallest element is :  3\n"
          ],
          "name": "stdout"
        }
      ]
    }
  ]
}