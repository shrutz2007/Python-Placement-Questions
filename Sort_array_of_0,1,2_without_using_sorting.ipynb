{
  "nbformat": 4,
  "nbformat_minor": 0,
  "metadata": {
    "colab": {
      "name": "Sort array of 0,1,2 without using sorting.ipynb",
      "provenance": []
    },
    "kernelspec": {
      "name": "python3",
      "display_name": "Python 3"
    },
    "language_info": {
      "name": "python"
    }
  },
  "cells": [
    {
      "cell_type": "code",
      "metadata": {
        "colab": {
          "base_uri": "https://localhost:8080/"
        },
        "id": "K3AA-2Q6aAIy",
        "outputId": "f6d465cb-13a2-42da-8dae-b5548264f3f0"
      },
      "source": [
        "def sort012(a,arr_size):\n",
        "    lo=0\n",
        "    mid=0\n",
        "    hi=arr_size-1\n",
        "    while mid<=hi:\n",
        "        if a[mid]==0:\n",
        "            a[lo],a[mid]=a[mid],a[lo]\n",
        "            lo=lo+1\n",
        "            mid=mid+1\n",
        "        elif a[mid]==1:\n",
        "            mid=mid+1\n",
        "        else:\n",
        "            a[mid],a[hi]=a[hi],a[mid]\n",
        "            hi=hi-1\n",
        "    return a\n",
        "def printarr(a):\n",
        "    for i in a:\n",
        "        print(i,end=\" \")\n",
        "        \n",
        "arr=list(map(int,input().split( )))\n",
        "arr_size=len(arr)\n",
        "arr=sort012(arr,arr_size)\n",
        "printarr(arr)\n",
        "\n",
        "\n"
      ],
      "execution_count": 1,
      "outputs": [
        {
          "output_type": "stream",
          "text": [
            "1 2 2 0 0 1 2 1 1 0\n",
            "0 0 0 1 1 1 1 2 2 2 "
          ],
          "name": "stdout"
        }
      ]
    }
  ]
}